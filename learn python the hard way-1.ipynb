{
 "cells": [
  {
   "cell_type": "code",
   "execution_count": 12,
   "metadata": {
    "collapsed": false,
    "scrolled": true
   },
   "outputs": [
    {
     "name": "stdout",
     "output_type": "stream",
     "text": [
      "i will now count my chickens:\n",
      "hens 30\n",
      "roosters 97\n",
      "now i will count the egss\n",
      "7\n",
      "is it true that 3+2<5-7?\n",
      "False\n",
      "what is 3+2? 5\n",
      "what is 5-7 -2\n",
      "oh, that's why it's false\n",
      "how about some more.\n",
      "is it greater? True\n",
      "is it greater or equal? True\n",
      "is is less or equal? False\n"
     ]
    }
   ],
   "source": [
    "print \"i will now count my chickens:\"\n",
    "print \"hens\", 25+30/6\n",
    "print \"roosters\", 100-25*3%4\n",
    "\n",
    "print \"now i will count the egss\"\n",
    "print 3+2+1-5+4%2-1/4+6\n",
    "    \n",
    "print \"is it true that 3+2<5-7?\"\n",
    "print 3+2<5-7\n",
    "\n",
    "print \"what is 3+2?\", 3+2\n",
    "print \"what is 5-7\", 5-7\n",
    "\n",
    "print \"oh, that's why it's false\"\n",
    "\n",
    "print \"how about some more.\"\n",
    "\n",
    "print \"is it greater?\", 5>-2\n",
    "print \"is it greater or equal?\", 5>=-2\n",
    "print \"is is less or equal?\", 5<=-2"
   ]
  },
  {
   "cell_type": "code",
   "execution_count": 16,
   "metadata": {
    "collapsed": false,
    "scrolled": true
   },
   "outputs": [
    {
     "name": "stdout",
     "output_type": "stream",
     "text": [
      "there are 100 cars available\n",
      "there are only 30 drivers available\n",
      "there will be 70 empty cars today\n",
      "we can transport 120.0 people today\n",
      "we have 90 to carpool today\n",
      "we need to put about 3 in each car\n"
     ]
    }
   ],
   "source": [
    "cars=100\n",
    "space_in_a_car=4.0\n",
    "drivers=30\n",
    "passengers=90\n",
    "cars_not_driven=cars-drivers\n",
    "cars_driven=drivers\n",
    "carpool_capacity=cars_driven*space_in_a_car\n",
    "average_passengers_per_car=passengers/cars_driven\n",
    "\n",
    "print \"there are\",cars,\"cars available\"\n",
    "print \"there are only\",drivers,\"drivers available\"\n",
    "print \"there will be\",cars_not_driven,\"empty cars today\"\n",
    "print \"we can transport\",carpool_capacity,\"people today\"\n",
    "print \"we have\",passengers,\"to carpool today\"\n",
    "print \"we need to put about\",average_passengers_per_car,\"in each car\""
   ]
  },
  {
   "cell_type": "code",
   "execution_count": 17,
   "metadata": {
    "collapsed": false
   },
   "outputs": [
    {
     "name": "stdout",
     "output_type": "stream",
     "text": [
      "lets talk about zed a. shaw\n",
      "he's 74 inches tall\n",
      "he's 180 pounds heavy\n",
      "actually that's not too heavy.\n",
      "he's got blue eyes and brown hair\n",
      "his teeth are usually white depending on the coffee\n"
     ]
    }
   ],
   "source": [
    "# ex5.py\n",
    "name = 'zed a. shaw'\n",
    "age = 35\n",
    "height = 74\n",
    "weight = 180\n",
    "eyes = 'blue'\n",
    "teeth = 'white'\n",
    "hair = 'brown'\n",
    "\n",
    "print \"lets talk about %s\"% name\n",
    "print \"he's %d inches tall\" % height\n",
    "print \"he's %d pounds heavy\" % weight\n",
    "print \"actually that's not too heavy.\"\n",
    "print \"he's got %s eyes and %s hair\" %(eyes, hair)\n",
    "print \"his teeth are usually %s depending on the coffee\" % teeth"
   ]
  },
  {
   "cell_type": "code",
   "execution_count": 4,
   "metadata": {
    "collapsed": false
   },
   "outputs": [
    {
     "ename": "SyntaxError",
     "evalue": "invalid syntax (<ipython-input-4-57a720532478>, line 10)",
     "output_type": "error",
     "traceback": [
      "\u001b[0;36m  File \u001b[0;32m\"<ipython-input-4-57a720532478>\"\u001b[0;36m, line \u001b[0;32m10\u001b[0m\n\u001b[0;31m    print \"i said: %r\" %% x\u001b[0m\n\u001b[0m                        ^\u001b[0m\n\u001b[0;31mSyntaxError\u001b[0m\u001b[0;31m:\u001b[0m invalid syntax\n"
     ]
    }
   ],
   "source": [
    "# ex6.py\n",
    "x = \"there are %d types of people.\" % 10\n",
    "binary = \"binary\"\n",
    "do_not = \"don't\"\n",
    "y = \"those who know %s and those who %s\" % (binary, do_not)\n",
    "\n",
    "print x\n",
    "print y\n",
    "\n",
    "print \"i said: %r\" % x\n",
    "print \"i also said '%s'\" % y\n",
    "\n",
    "hilarious = False\n",
    "joke_evaluation = \"isn't that joke so funny?! %r\"\n",
    "\n",
    "print joke_evaluation % hilarious\n",
    "\n",
    "w = \"this is the left side of...\"\n",
    "e = \"a string with a right side\"\n",
    "\n",
    "print w+e"
   ]
  },
  {
   "cell_type": "code",
   "execution_count": 7,
   "metadata": {
    "collapsed": false
   },
   "outputs": [
    {
     "name": "stdout",
     "output_type": "stream",
     "text": [
      "mary had a little lamb\n",
      "its fleece was white as snow\n",
      "and everywhere that mary went\n",
      "..........\n",
      "cheese burger\n"
     ]
    }
   ],
   "source": [
    "#ex7.py\n",
    "print \"mary had a little lamb\"\n",
    "print \"its fleece was white as %s\" % 'snow'\n",
    "print \"and everywhere that mary went\"\n",
    "print \".\"*10\n",
    "\n",
    "end1 = \"c\"\n",
    "end2 = \"h\"\n",
    "end3 = \"e\"\n",
    "end4 = \"e\"\n",
    "end5 = \"s\"\n",
    "end6 = \"e\"\n",
    "end7 = \"b\"\n",
    "end8 = \"u\"\n",
    "end9 = \"r\"\n",
    "end10 = \"g\"\n",
    "end11 = \"e\"\n",
    "end12 = \"r\"\n",
    "\n",
    "print end1+end2+end3+end4+end5+end6,\n",
    "print end7+end8+end9+end10+end11+end12"
   ]
  },
  {
   "cell_type": "code",
   "execution_count": 9,
   "metadata": {
    "collapsed": false
   },
   "outputs": [
    {
     "name": "stdout",
     "output_type": "stream",
     "text": [
      "1 2 3 4\n",
      "'one' 'two' 'three' 'four'\n",
      "True False True False\n",
      "'%r %r %r %r' '%r %r %r %r' '%r %r %r %r' '%r %r %r %r'\n",
      "'i had this thing' 'that you could type up right' 'but it didnt sing' 'so i said goodnight'\n"
     ]
    }
   ],
   "source": [
    "#ex8.py\n",
    "formatter = \"%r %r %r %r\"\n",
    "\n",
    "print formatter % (1,2,3,4)\n",
    "print formatter % (\"one\",\"two\",\"three\",\"four\")\n",
    "print formatter % (True, False, True, False)\n",
    "print formatter % (formatter, formatter, formatter, formatter)\n",
    "print formatter % (\n",
    "    \"i had this thing\",\n",
    "    \"that you could type up right\",\n",
    "    \"but it didnt sing\",\n",
    "    \"so i said goodnight\"\n",
    ")"
   ]
  },
  {
   "cell_type": "code",
   "execution_count": 11,
   "metadata": {
    "collapsed": false
   },
   "outputs": [
    {
     "name": "stdout",
     "output_type": "stream",
     "text": [
      "here are the days mon tue wed thu fri sat sun\n",
      "here are the months jan\n",
      "feb\n",
      "mar\n",
      "apr\n",
      "may\n",
      "jun\n",
      "jul\n",
      "aug\n",
      "\n",
      "theres something going on here.\n",
      "with the three double-quotes.\n",
      "well be able to type as much as we like.\n",
      "even 4lines if we want, or 5, or 6.\n",
      "\n"
     ]
    }
   ],
   "source": [
    "#ex9.py\n",
    "days = \"mon tue wed thu fri sat sun\"\n",
    "months = \"jan\\nfeb\\nmar\\napr\\nmay\\njun\\njul\\naug\"\n",
    "\n",
    "print \"here are the days\",days\n",
    "print \"here are the months\",months\n",
    "\n",
    "print \"\"\"\n",
    "theres something going on here.\n",
    "with the three double-quotes.\n",
    "well be able to type as much as we like.\n",
    "even 4lines if we want, or 5, or 6.\n",
    "\"\"\""
   ]
  },
  {
   "cell_type": "code",
   "execution_count": 9,
   "metadata": {
    "collapsed": false
   },
   "outputs": [
    {
     "name": "stdout",
     "output_type": "stream",
     "text": [
      "\ti'm tabbed in\n",
      "i'm split\n",
      "on a line\n",
      "i'm \\ a \\ cat\n",
      "\n",
      "i'll do a list:\n",
      "\t* cat food\n",
      "\t* fishies\n",
      "\t* catnip\n",
      "\t* grass\n",
      "\n"
     ]
    }
   ],
   "source": [
    "#ex10.py\n",
    "tabby_cat = \"\\ti'm tabbed in\"\n",
    "persian_cat = \"i'm split\\non a line\"\n",
    "backslash_cat = \"i'm \\\\ a \\\\ cat\"\n",
    "\n",
    "fat_cat=\"\"\"\n",
    "i'll do a list:\n",
    "\\t* cat food\n",
    "\\t* fishies\n",
    "\\t* catnip\\n\\t* grass\n",
    "\"\"\"\n",
    "\n",
    "print tabby_cat\n",
    "print persian_cat\n",
    "print backslash_cat\n",
    "print fat_cat"
   ]
  },
  {
   "cell_type": "code",
   "execution_count": 10,
   "metadata": {
    "collapsed": false
   },
   "outputs": [
    {
     "name": "stdout",
     "output_type": "stream",
     "text": [
      "'/'\t\n",
      "'-'\t\n",
      "'|'\t\n",
      "'\\\\'\t\n",
      "'|'\t\n"
     ]
    }
   ],
   "source": [
    "#ex10-1.py\n",
    "for i in [\"/\", \"-\", \"|\", \"\\\\\", \"|\"]:\n",
    "    print \"%r\\t\" % i"
   ]
  },
  {
   "cell_type": "code",
   "execution_count": 17,
   "metadata": {
    "collapsed": false
   },
   "outputs": [
    {
     "name": "stdout",
     "output_type": "stream",
     "text": [
      "how old are you?\n",
      "12\n",
      "how tall are you?\n",
      "173cm\n",
      "how much do you weigh?\n",
      "71kg\n",
      "so, you're 12 old, 173cm tall and 71kg heavy\n"
     ]
    }
   ],
   "source": [
    "#ex11.py\n",
    "print \"how old are you?\"\n",
    "age = raw_input()\n",
    "print \"how tall are you?\"\n",
    "height = raw_input()\n",
    "print \"how much do you weigh?\"\n",
    "weight = raw_input()\n",
    "\n",
    "print \"so, you're %s old, %s tall and %s heavy\" % (age, height, weight)\n"
   ]
  },
  {
   "cell_type": "code",
   "execution_count": 19,
   "metadata": {
    "collapsed": false
   },
   "outputs": [
    {
     "name": "stdout",
     "output_type": "stream",
     "text": [
      "how old are you?30years\n",
      "how tall are you?172cm\n",
      "how much do you weigh?71kg\n",
      "so, you're 30years old, 172cm tall and 71kg heavy\n"
     ]
    }
   ],
   "source": [
    "#ex12.py\n",
    "age = raw_input(\"how old are you?\")\n",
    "height = raw_input(\"how tall are you?\")\n",
    "weight = raw_input(\"how much do you weigh?\")\n",
    "\n",
    "print \"so, you're %s old, %s tall and %s heavy\" % (age, height, weight)"
   ]
  },
  {
   "cell_type": "code",
   "execution_count": 21,
   "metadata": {
    "collapsed": false
   },
   "outputs": [
    {
     "ename": "ValueError",
     "evalue": "need more than 3 values to unpack",
     "output_type": "error",
     "traceback": [
      "\u001b[0;31m---------------------------------------------------------------------------\u001b[0m",
      "\u001b[0;31mValueError\u001b[0m                                Traceback (most recent call last)",
      "\u001b[0;32m<ipython-input-21-c58471865d27>\u001b[0m in \u001b[0;36m<module>\u001b[0;34m()\u001b[0m\n\u001b[1;32m      1\u001b[0m \u001b[1;31m#ex13.py\u001b[0m\u001b[1;33m\u001b[0m\u001b[1;33m\u001b[0m\u001b[0m\n\u001b[1;32m      2\u001b[0m \u001b[1;32mfrom\u001b[0m \u001b[0msys\u001b[0m \u001b[1;32mimport\u001b[0m \u001b[0margv\u001b[0m\u001b[1;33m\u001b[0m\u001b[0m\n\u001b[0;32m----> 3\u001b[0;31m \u001b[0mscript\u001b[0m\u001b[1;33m,\u001b[0m \u001b[0mfirst\u001b[0m\u001b[1;33m,\u001b[0m \u001b[0msecond\u001b[0m\u001b[1;33m,\u001b[0m \u001b[0mthird\u001b[0m \u001b[1;33m=\u001b[0m \u001b[0margv\u001b[0m\u001b[1;33m\u001b[0m\u001b[0m\n\u001b[0m\u001b[1;32m      4\u001b[0m \u001b[1;32mprint\u001b[0m \u001b[1;34m\"the script is called:\"\u001b[0m\u001b[1;33m,\u001b[0m \u001b[0mscript\u001b[0m\u001b[1;33m\u001b[0m\u001b[0m\n\u001b[1;32m      5\u001b[0m \u001b[1;32mprint\u001b[0m \u001b[1;34m\"your first variable is:\"\u001b[0m\u001b[1;33m,\u001b[0m \u001b[0mfirst\u001b[0m\u001b[1;33m\u001b[0m\u001b[0m\n",
      "\u001b[0;31mValueError\u001b[0m: need more than 3 values to unpack"
     ]
    }
   ],
   "source": [
    "#ex13.py\n",
    "from sys import argv\n",
    "script, first, second, third = argv\n",
    "print \"the script is called:\", script\n",
    "print \"your first variable is:\", first\n",
    "print \"your second variable is:\", second\n",
    "print \"your third variable is:\", third"
   ]
  },
  {
   "cell_type": "code",
   "execution_count": 22,
   "metadata": {
    "collapsed": false
   },
   "outputs": [
    {
     "ename": "ValueError",
     "evalue": "too many values to unpack",
     "output_type": "error",
     "traceback": [
      "\u001b[0;31m---------------------------------------------------------------------------\u001b[0m",
      "\u001b[0;31mValueError\u001b[0m                                Traceback (most recent call last)",
      "\u001b[0;32m<ipython-input-22-b42b49258971>\u001b[0m in \u001b[0;36m<module>\u001b[0;34m()\u001b[0m\n\u001b[1;32m      3\u001b[0m \u001b[1;32mfrom\u001b[0m \u001b[0msys\u001b[0m \u001b[1;32mimport\u001b[0m \u001b[0margv\u001b[0m\u001b[1;33m\u001b[0m\u001b[0m\n\u001b[1;32m      4\u001b[0m \u001b[1;33m\u001b[0m\u001b[0m\n\u001b[0;32m----> 5\u001b[0;31m \u001b[0mscript\u001b[0m\u001b[1;33m,\u001b[0m \u001b[0musername\u001b[0m \u001b[1;33m=\u001b[0m \u001b[0margv\u001b[0m\u001b[1;33m\u001b[0m\u001b[0m\n\u001b[0m\u001b[1;32m      6\u001b[0m \u001b[0mprompt\u001b[0m\u001b[1;33m=\u001b[0m\u001b[1;34m'>'\u001b[0m\u001b[1;33m\u001b[0m\u001b[0m\n\u001b[1;32m      7\u001b[0m \u001b[1;33m\u001b[0m\u001b[0m\n",
      "\u001b[0;31mValueError\u001b[0m: too many values to unpack"
     ]
    }
   ],
   "source": [
    "#ex14.py\n",
    "#jupyter에서 실행시 오류 / 인수를 넣을 수 없기 때문에\n",
    "from sys import argv\n",
    "\n",
    "script, username = argv\n",
    "prompt='>'\n",
    "\n",
    "print \"hi %s, i'm the %s script\" % (username, script)\n",
    "print \"i'd like to ask you a few questions\"\n",
    "print \"do you like me %s?\" % username\n",
    "likes = raw_input(prompt)\n",
    "\n",
    "print \"where do you live %s?\" % username\n",
    "lives = raw_input(prompt)\n",
    "\n",
    "print \"what kind of computer do you have?\"\n",
    "computer = raw_input(prompt)\n",
    "\n",
    "print \"\"\"\n",
    "alright, so you said %r about liking me.\n",
    "you live in %r. not sure where that is.\n",
    "and you have a %r computer. nice.\n",
    "\"\"\" % (likes, lives, computer)\n"
   ]
  },
  {
   "cell_type": "code",
   "execution_count": null,
   "metadata": {
    "collapsed": true
   },
   "outputs": [],
   "source": [
    "#ex15.py\n",
    "from sys import argv\n",
    "script, filename = argv\n",
    "\n",
    "txt = open(filename)\n",
    "print \"here's your file %r:\" % filename\n",
    "print txt.read()\n",
    "\n",
    "print \"type the filename again:\"\n",
    "file_again = raw_input(\">\")\n",
    "\n",
    "txt_again = open(file_again)\n",
    "print txt_again.read()"
   ]
  },
  {
   "cell_type": "code",
   "execution_count": null,
   "metadata": {
    "collapsed": false
   },
   "outputs": [],
   "source": [
    "#ex15_1.py\n",
    "#jupyter에서 사용가능 / argv를 사용하지 않고, raw_input을 사용\n",
    "\n",
    "filename = raw_input('>')\n",
    "txt = open(filename)\n",
    "print \"here's your file %r:\" % filename\n",
    "print txt.read()\n",
    "\n",
    "print \"type the filename again:\"\n",
    "file_again = raw_input('>')\n",
    "\n",
    "txt_again = open(file_again)\n",
    "print txt_again.read()"
   ]
  },
  {
   "cell_type": "code",
   "execution_count": 9,
   "metadata": {
    "collapsed": false,
    "scrolled": false
   },
   "outputs": [
    {
     "name": "stdout",
     "output_type": "stream",
     "text": [
      "input filename: ex15_sample.txt\n",
      "we're going to erase ex15_sample.txt\n",
      "if you don't want that, hit ctrl-c (^c)\n",
      "if you do want that, hit return\n",
      "erase?: n\n",
      "\n",
      "now i'm going to ask you for three lines\n",
      "line1: saldkjf\n",
      "line2: asdf\n",
      "line3: asdf\n",
      "i'm going to write these to the file.\n",
      "and finally, we close it\n"
     ]
    }
   ],
   "source": [
    "#ex16.py\n",
    "filename = raw_input('input filename: ')\n",
    "print \"we're going to erase %s\" % filename\n",
    "print \"if you don't want that, hit ctrl-c (^c)\"\n",
    "print \"if you do want that, hit return\"\n",
    "\n",
    "answer=raw_input('erase?: ')\n",
    "if (answer=='y'):\n",
    "    print \"opening the file...\"\n",
    "    target = open(filename, 'w')\n",
    "    print \"truncating the file. goodbye!\"\n",
    "    target.truncate()\n",
    "    \n",
    "target = open(filename, 'w')\n",
    "print \"\\nnow i'm going to ask you for three lines\"\n",
    "line1 = raw_input(\"line1: \")\n",
    "line2 = raw_input(\"line2: \")\n",
    "line3 = raw_input(\"line3: \")\n",
    "\n",
    "print \"i'm going to write these to the file.\"\n",
    "target.write('%s \\n %s \\n %s \\n'% (line1, line2, line3))\n",
    "#target.write('\\n')\n",
    "#target.write(line2)\n",
    "#target.write('\\n')\n",
    "#target.write(line3)\n",
    "#target.write('\\n')\n",
    "\n",
    "print \"and finally, we close it\"\n",
    "\n",
    "target.close()"
   ]
  },
  {
   "cell_type": "code",
   "execution_count": 35,
   "metadata": {
    "collapsed": true
   },
   "outputs": [],
   "source": [
    "#ex18.py\n",
    "def print_two(*args):\n",
    "    arg1, arg2 = args\n",
    "    print \"arg1: %r, arg2: %r\" % (arg1, arg2)\n",
    "    \n",
    "def print_two_again(arg1, arg2):\n",
    "    print \"arg1: %r, arg2: %r\" % (arg1, arg2)\n",
    "    \n",
    "def print_one(arg1):\n",
    "    print \"arg1: %r\" % arg1\n",
    "\n",
    "def print_none():\n",
    "    print \"i got nothin\""
   ]
  },
  {
   "cell_type": "code",
   "execution_count": 42,
   "metadata": {
    "collapsed": false
   },
   "outputs": [
    {
     "name": "stdout",
     "output_type": "stream",
     "text": [
      "arg1: 'zed', arg2: 'shaw'\n",
      "arg1: 'zed', arg2: 'shaw'\n",
      "arg1: 'hey'\n",
      "i got nothin\n"
     ]
    }
   ],
   "source": [
    "print_two('zed', 'shaw')\n",
    "print_two_again('zed', 'shaw')\n",
    "print_one('hey')\n",
    "print_none()"
   ]
  },
  {
   "cell_type": "code",
   "execution_count": 43,
   "metadata": {
    "collapsed": false
   },
   "outputs": [
    {
     "name": "stdout",
     "output_type": "stream",
     "text": [
      "you have 20 cheeses!\n",
      "you have 30 boxes of crackers!\n",
      "man that's enough for a party!\n",
      "get a blanket.\n",
      "\n",
      "you have 10 cheeses!\n",
      "you have 50 boxes of crackers!\n",
      "man that's enough for a party!\n",
      "get a blanket.\n",
      "\n",
      "you have 30 cheeses!\n",
      "you have 11 boxes of crackers!\n",
      "man that's enough for a party!\n",
      "get a blanket.\n",
      "\n",
      "you have 110 cheeses!\n",
      "you have 1050 boxes of crackers!\n",
      "man that's enough for a party!\n",
      "get a blanket.\n",
      "\n"
     ]
    }
   ],
   "source": [
    "#ex19.py\n",
    "def cheese_and_crackers(cheese_count, boxes_of_crackers):\n",
    "    print \"you have %d cheeses!\" % cheese_count\n",
    "    print \"you have %d boxes of crackers!\" % boxes_of_crackers\n",
    "    print \"man that's enough for a party!\"\n",
    "    print \"get a blanket.\\n\"\n",
    "    \n",
    "cheese_and_crackers(20,30)\n",
    "\n",
    "amount_of_cheese = 10\n",
    "amount_of_crackers = 50\n",
    "\n",
    "cheese_and_crackers(amount_of_cheese, amount_of_crackers)\n",
    "\n",
    "cheese_and_crackers(10+20, 5+6)\n",
    "\n",
    "cheese_and_crackers(amount_of_cheese+100, amount_of_crackers+1000)"
   ]
  },
  {
   "cell_type": "code",
   "execution_count": 45,
   "metadata": {
    "collapsed": false
   },
   "outputs": [
    {
     "name": "stdout",
     "output_type": "stream",
     "text": [
      "100\n",
      "400\n",
      "you have 100 cheeses!\n",
      "you have 400 boxes of crackers!\n",
      "man that's enough for a party!\n",
      "get a blanket.\n",
      "\n"
     ]
    }
   ],
   "source": [
    "cheese_and_crackers(int(raw_input()), int(raw_input()))"
   ]
  },
  {
   "cell_type": "code",
   "execution_count": 49,
   "metadata": {
    "collapsed": false
   },
   "outputs": [
    {
     "name": "stdout",
     "output_type": "stream",
     "text": [
      "file name?: test.txt\n",
      "the whole file\n",
      "this is line1\n",
      "this is line2\n",
      "this is line3\n",
      "rewind, like a tape\n",
      "1 this is line1\n",
      "\n",
      "2 this is line2\n",
      "\n"
     ]
    }
   ],
   "source": [
    "#ex20.py\n",
    "def print_all(a):\n",
    "    print a.read()\n",
    "    \n",
    "def rewind(a):\n",
    "    a.seek(0)\n",
    "    \n",
    "def print_a_line(line_count, a):\n",
    "    print line_count, a.readline()\n",
    "    \n",
    "input_file = raw_input('file name?: ')    \n",
    "current_file = open(input_file)\n",
    "\n",
    "print \"the whole file\"\n",
    "print_all(current_file)\n",
    "\n",
    "print \"rewind, like a tape\"\n",
    "rewind(current_file)\n",
    "\n",
    "current_line = 1\n",
    "print_a_line(current_line, current_file)\n",
    "\n",
    "current_line = current_line + 1\n",
    "print_a_line(current_line, current_file)\n"
   ]
  },
  {
   "cell_type": "code",
   "execution_count": 56,
   "metadata": {
    "collapsed": false
   },
   "outputs": [
    {
     "name": "stdout",
     "output_type": "stream",
     "text": [
      "math time\n",
      "100231.4\n",
      "1203123.145\n",
      "adding 100231.400000 + 1203123.145000\n",
      "subtract 78 - 4\n",
      "multiply 90 * 2\n",
      "divide 100 / 3\n"
     ]
    },
    {
     "data": {
      "text/plain": [
       "(1303354.545, 74, 180, 33.333333333333336)"
      ]
     },
     "execution_count": 56,
     "metadata": {},
     "output_type": "execute_result"
    }
   ],
   "source": [
    "#ex21.py\n",
    "def add(a, b):\n",
    "    print \"adding %f + %f\" % (a, b)\n",
    "    return a + b\n",
    "\n",
    "def subtract(a, b):\n",
    "    print \"subtract %d - %d\" % (a, b)\n",
    "    return a - b\n",
    "\n",
    "def multiply(a, b):\n",
    "    print \"multiply %d * %d\" % (a, b)\n",
    "    return a * b\n",
    "\n",
    "def divide(a, b):\n",
    "    print \"divide %d / %d\" % (a, b)\n",
    "    return a / b\n",
    "\n",
    "print \"math time\"\n",
    "\n",
    "age = add(float(raw_input()), float(raw_input()))\n",
    "height = subtract(78, 4)\n",
    "weight = multiply(90, 2)\n",
    "iq = divide(100.0, 3.0)\n",
    "\n",
    "age, height, weight, iq"
   ]
  }
 ],
 "metadata": {
  "kernelspec": {
   "display_name": "Python 2",
   "language": "python",
   "name": "python2"
  },
  "language_info": {
   "codemirror_mode": {
    "name": "ipython",
    "version": 2
   },
   "file_extension": ".py",
   "mimetype": "text/x-python",
   "name": "python",
   "nbconvert_exporter": "python",
   "pygments_lexer": "ipython2",
   "version": "2.7.12"
  }
 },
 "nbformat": 4,
 "nbformat_minor": 1
}
